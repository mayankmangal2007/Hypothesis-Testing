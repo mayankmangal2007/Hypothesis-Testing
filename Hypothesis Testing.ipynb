{
 "cells": [
  {
   "cell_type": "code",
   "execution_count": 1,
   "metadata": {},
   "outputs": [],
   "source": [
    "import numpy as np\n",
    "import pandas as pd\n",
    "import scipy.stats as stats\n",
    "import matplotlib.pyplot as plt"
   ]
  },
  {
   "cell_type": "code",
   "execution_count": 2,
   "metadata": {},
   "outputs": [
    {
     "data": {
      "text/html": [
       "<div>\n",
       "<style scoped>\n",
       "    .dataframe tbody tr th:only-of-type {\n",
       "        vertical-align: middle;\n",
       "    }\n",
       "\n",
       "    .dataframe tbody tr th {\n",
       "        vertical-align: top;\n",
       "    }\n",
       "\n",
       "    .dataframe thead th {\n",
       "        text-align: right;\n",
       "    }\n",
       "</style>\n",
       "<table border=\"1\" class=\"dataframe\">\n",
       "  <thead>\n",
       "    <tr style=\"text-align: right;\">\n",
       "      <th></th>\n",
       "      <th>ItemId</th>\n",
       "      <th>WeekNoinTotal</th>\n",
       "      <th>YearID</th>\n",
       "      <th>MonthID</th>\n",
       "      <th>MonthNoinTotal</th>\n",
       "      <th>WeekID</th>\n",
       "      <th>WeekNoinMonth</th>\n",
       "      <th>QTY</th>\n",
       "      <th>SALESAVE</th>\n",
       "      <th>on_promo</th>\n",
       "      <th>Display_EndCap</th>\n",
       "      <th>on_display</th>\n",
       "      <th>Page_Number</th>\n",
       "    </tr>\n",
       "  </thead>\n",
       "  <tbody>\n",
       "    <tr>\n",
       "      <th>0</th>\n",
       "      <td>727400</td>\n",
       "      <td>1</td>\n",
       "      <td>2014</td>\n",
       "      <td>Jan</td>\n",
       "      <td>1</td>\n",
       "      <td>W001</td>\n",
       "      <td>1</td>\n",
       "      <td>25</td>\n",
       "      <td>0.0</td>\n",
       "      <td>0</td>\n",
       "      <td>0</td>\n",
       "      <td>0</td>\n",
       "      <td>0</td>\n",
       "    </tr>\n",
       "    <tr>\n",
       "      <th>1</th>\n",
       "      <td>727400</td>\n",
       "      <td>2</td>\n",
       "      <td>2014</td>\n",
       "      <td>Jan</td>\n",
       "      <td>1</td>\n",
       "      <td>W002</td>\n",
       "      <td>2</td>\n",
       "      <td>749</td>\n",
       "      <td>0.0</td>\n",
       "      <td>0</td>\n",
       "      <td>0</td>\n",
       "      <td>0</td>\n",
       "      <td>0</td>\n",
       "    </tr>\n",
       "    <tr>\n",
       "      <th>2</th>\n",
       "      <td>727400</td>\n",
       "      <td>3</td>\n",
       "      <td>2014</td>\n",
       "      <td>Jan</td>\n",
       "      <td>1</td>\n",
       "      <td>W003</td>\n",
       "      <td>3</td>\n",
       "      <td>958</td>\n",
       "      <td>0.0</td>\n",
       "      <td>0</td>\n",
       "      <td>0</td>\n",
       "      <td>0</td>\n",
       "      <td>0</td>\n",
       "    </tr>\n",
       "    <tr>\n",
       "      <th>3</th>\n",
       "      <td>727400</td>\n",
       "      <td>4</td>\n",
       "      <td>2014</td>\n",
       "      <td>Jan</td>\n",
       "      <td>1</td>\n",
       "      <td>W004</td>\n",
       "      <td>4</td>\n",
       "      <td>955</td>\n",
       "      <td>0.0</td>\n",
       "      <td>0</td>\n",
       "      <td>0</td>\n",
       "      <td>0</td>\n",
       "      <td>0</td>\n",
       "    </tr>\n",
       "    <tr>\n",
       "      <th>4</th>\n",
       "      <td>727400</td>\n",
       "      <td>5</td>\n",
       "      <td>2014</td>\n",
       "      <td>Feb</td>\n",
       "      <td>2</td>\n",
       "      <td>W005</td>\n",
       "      <td>1</td>\n",
       "      <td>927</td>\n",
       "      <td>0.0</td>\n",
       "      <td>0</td>\n",
       "      <td>0</td>\n",
       "      <td>0</td>\n",
       "      <td>0</td>\n",
       "    </tr>\n",
       "  </tbody>\n",
       "</table>\n",
       "</div>"
      ],
      "text/plain": [
       "   ItemId  WeekNoinTotal  YearID MonthID  MonthNoinTotal WeekID  \\\n",
       "0  727400              1    2014     Jan               1   W001   \n",
       "1  727400              2    2014     Jan               1   W002   \n",
       "2  727400              3    2014     Jan               1   W003   \n",
       "3  727400              4    2014     Jan               1   W004   \n",
       "4  727400              5    2014     Feb               2   W005   \n",
       "\n",
       "   WeekNoinMonth  QTY  SALESAVE  on_promo  Display_EndCap  on_display  \\\n",
       "0              1   25       0.0         0               0           0   \n",
       "1              2  749       0.0         0               0           0   \n",
       "2              3  958       0.0         0               0           0   \n",
       "3              4  955       0.0         0               0           0   \n",
       "4              1  927       0.0         0               0           0   \n",
       "\n",
       "   Page_Number  \n",
       "0            0  \n",
       "1            0  \n",
       "2            0  \n",
       "3            0  \n",
       "4            0  "
      ]
     },
     "execution_count": 2,
     "metadata": {},
     "output_type": "execute_result"
    }
   ],
   "source": [
    "df=pd.read_csv('dd.csv')\n",
    "df.head()"
   ]
  },
  {
   "cell_type": "code",
   "execution_count": 3,
   "metadata": {},
   "outputs": [
    {
     "data": {
      "text/html": [
       "<div>\n",
       "<style scoped>\n",
       "    .dataframe tbody tr th:only-of-type {\n",
       "        vertical-align: middle;\n",
       "    }\n",
       "\n",
       "    .dataframe tbody tr th {\n",
       "        vertical-align: top;\n",
       "    }\n",
       "\n",
       "    .dataframe thead th {\n",
       "        text-align: right;\n",
       "    }\n",
       "</style>\n",
       "<table border=\"1\" class=\"dataframe\">\n",
       "  <thead>\n",
       "    <tr style=\"text-align: right;\">\n",
       "      <th></th>\n",
       "      <th>ItemId</th>\n",
       "      <th>WeekNoinTotal</th>\n",
       "      <th>YearID</th>\n",
       "      <th>MonthID</th>\n",
       "      <th>MonthNoinTotal</th>\n",
       "      <th>WeekID</th>\n",
       "      <th>WeekNoinMonth</th>\n",
       "      <th>QTY</th>\n",
       "      <th>SALESAVE</th>\n",
       "      <th>on_promo</th>\n",
       "      <th>Display_EndCap</th>\n",
       "      <th>on_display</th>\n",
       "      <th>Page_Number</th>\n",
       "    </tr>\n",
       "  </thead>\n",
       "  <tbody>\n",
       "    <tr>\n",
       "      <th>590</th>\n",
       "      <td>972142</td>\n",
       "      <td>1</td>\n",
       "      <td>2014</td>\n",
       "      <td>Jan</td>\n",
       "      <td>1</td>\n",
       "      <td>W001</td>\n",
       "      <td>1</td>\n",
       "      <td>4</td>\n",
       "      <td>0.0</td>\n",
       "      <td>0</td>\n",
       "      <td>0</td>\n",
       "      <td>0</td>\n",
       "      <td>0</td>\n",
       "    </tr>\n",
       "    <tr>\n",
       "      <th>591</th>\n",
       "      <td>972142</td>\n",
       "      <td>2</td>\n",
       "      <td>2014</td>\n",
       "      <td>Jan</td>\n",
       "      <td>1</td>\n",
       "      <td>W002</td>\n",
       "      <td>2</td>\n",
       "      <td>35</td>\n",
       "      <td>0.0</td>\n",
       "      <td>0</td>\n",
       "      <td>0</td>\n",
       "      <td>0</td>\n",
       "      <td>0</td>\n",
       "    </tr>\n",
       "    <tr>\n",
       "      <th>592</th>\n",
       "      <td>972142</td>\n",
       "      <td>3</td>\n",
       "      <td>2014</td>\n",
       "      <td>Jan</td>\n",
       "      <td>1</td>\n",
       "      <td>W003</td>\n",
       "      <td>3</td>\n",
       "      <td>46</td>\n",
       "      <td>0.0</td>\n",
       "      <td>0</td>\n",
       "      <td>0</td>\n",
       "      <td>0</td>\n",
       "      <td>0</td>\n",
       "    </tr>\n",
       "    <tr>\n",
       "      <th>593</th>\n",
       "      <td>972142</td>\n",
       "      <td>4</td>\n",
       "      <td>2014</td>\n",
       "      <td>Jan</td>\n",
       "      <td>1</td>\n",
       "      <td>W004</td>\n",
       "      <td>4</td>\n",
       "      <td>39</td>\n",
       "      <td>0.0</td>\n",
       "      <td>0</td>\n",
       "      <td>0</td>\n",
       "      <td>0</td>\n",
       "      <td>0</td>\n",
       "    </tr>\n",
       "    <tr>\n",
       "      <th>594</th>\n",
       "      <td>972142</td>\n",
       "      <td>5</td>\n",
       "      <td>2014</td>\n",
       "      <td>Feb</td>\n",
       "      <td>2</td>\n",
       "      <td>W005</td>\n",
       "      <td>1</td>\n",
       "      <td>31</td>\n",
       "      <td>0.0</td>\n",
       "      <td>0</td>\n",
       "      <td>0</td>\n",
       "      <td>0</td>\n",
       "      <td>0</td>\n",
       "    </tr>\n",
       "  </tbody>\n",
       "</table>\n",
       "</div>"
      ],
      "text/plain": [
       "     ItemId  WeekNoinTotal  YearID MonthID  MonthNoinTotal WeekID  \\\n",
       "590  972142              1    2014     Jan               1   W001   \n",
       "591  972142              2    2014     Jan               1   W002   \n",
       "592  972142              3    2014     Jan               1   W003   \n",
       "593  972142              4    2014     Jan               1   W004   \n",
       "594  972142              5    2014     Feb               2   W005   \n",
       "\n",
       "     WeekNoinMonth  QTY  SALESAVE  on_promo  Display_EndCap  on_display  \\\n",
       "590              1    4       0.0         0               0           0   \n",
       "591              2   35       0.0         0               0           0   \n",
       "592              3   46       0.0         0               0           0   \n",
       "593              4   39       0.0         0               0           0   \n",
       "594              1   31       0.0         0               0           0   \n",
       "\n",
       "     Page_Number  \n",
       "590            0  \n",
       "591            0  \n",
       "592            0  \n",
       "593            0  \n",
       "594            0  "
      ]
     },
     "execution_count": 3,
     "metadata": {},
     "output_type": "execute_result"
    }
   ],
   "source": [
    "df1=df[df.ItemId==972142]\n",
    "df1.head()"
   ]
  },
  {
   "cell_type": "code",
   "execution_count": 22,
   "metadata": {},
   "outputs": [
    {
     "data": {
      "text/plain": [
       "<matplotlib.axes._subplots.AxesSubplot at 0xf1ce310fd0>"
      ]
     },
     "execution_count": 22,
     "metadata": {},
     "output_type": "execute_result"
    },
    {
     "data": {
      "image/png": "[encoded data removed]",
      "text/plain": [
       "<Figure size 432x288 with 2 Axes>"
      ]
     },
     "metadata": {
      "needs_background": "light"
     },
     "output_type": "display_data"
    }
   ],
   "source": [
    "import seaborn as sns\n",
    "corr = df1.corr()\n",
    "sns.heatmap(corr, \n",
    "            xticklabels=corr.columns.values,\n",
    "            yticklabels=corr.columns.values)"
   ]
  },
  {
   "cell_type": "code",
   "execution_count": 24,
   "metadata": {},
   "outputs": [
    {
     "data": {
      "text/html": [
       "<div>\n",
       "<style scoped>\n",
       "    .dataframe tbody tr th:only-of-type {\n",
       "        vertical-align: middle;\n",
       "    }\n",
       "\n",
       "    .dataframe tbody tr th {\n",
       "        vertical-align: top;\n",
       "    }\n",
       "\n",
       "    .dataframe thead th {\n",
       "        text-align: right;\n",
       "    }\n",
       "</style>\n",
       "<table border=\"1\" class=\"dataframe\">\n",
       "  <thead>\n",
       "    <tr style=\"text-align: right;\">\n",
       "      <th></th>\n",
       "      <th>ItemId</th>\n",
       "      <th>WeekNoinTotal</th>\n",
       "      <th>YearID</th>\n",
       "      <th>MonthNoinTotal</th>\n",
       "      <th>WeekNoinMonth</th>\n",
       "      <th>QTY</th>\n",
       "      <th>SALESAVE</th>\n",
       "      <th>on_promo</th>\n",
       "      <th>Display_EndCap</th>\n",
       "      <th>on_display</th>\n",
       "      <th>Page_Number</th>\n",
       "    </tr>\n",
       "  </thead>\n",
       "  <tbody>\n",
       "    <tr>\n",
       "      <th>ItemId</th>\n",
       "      <td>NaN</td>\n",
       "      <td>NaN</td>\n",
       "      <td>NaN</td>\n",
       "      <td>NaN</td>\n",
       "      <td>NaN</td>\n",
       "      <td>NaN</td>\n",
       "      <td>NaN</td>\n",
       "      <td>NaN</td>\n",
       "      <td>NaN</td>\n",
       "      <td>NaN</td>\n",
       "      <td>NaN</td>\n",
       "    </tr>\n",
       "    <tr>\n",
       "      <th>WeekNoinTotal</th>\n",
       "      <td>NaN</td>\n",
       "      <td>1.000000</td>\n",
       "      <td>0.966294</td>\n",
       "      <td>0.999616</td>\n",
       "      <td>0.035735</td>\n",
       "      <td>0.169496</td>\n",
       "      <td>0.134221</td>\n",
       "      <td>0.181698</td>\n",
       "      <td>-0.284457</td>\n",
       "      <td>-0.284457</td>\n",
       "      <td>-0.104376</td>\n",
       "    </tr>\n",
       "    <tr>\n",
       "      <th>YearID</th>\n",
       "      <td>NaN</td>\n",
       "      <td>0.966294</td>\n",
       "      <td>1.000000</td>\n",
       "      <td>0.969411</td>\n",
       "      <td>0.011141</td>\n",
       "      <td>0.069616</td>\n",
       "      <td>0.068794</td>\n",
       "      <td>0.095721</td>\n",
       "      <td>-0.309615</td>\n",
       "      <td>-0.309615</td>\n",
       "      <td>-0.112083</td>\n",
       "    </tr>\n",
       "    <tr>\n",
       "      <th>MonthNoinTotal</th>\n",
       "      <td>NaN</td>\n",
       "      <td>0.999616</td>\n",
       "      <td>0.969411</td>\n",
       "      <td>1.000000</td>\n",
       "      <td>0.015301</td>\n",
       "      <td>0.160675</td>\n",
       "      <td>0.128368</td>\n",
       "      <td>0.174664</td>\n",
       "      <td>-0.287377</td>\n",
       "      <td>-0.287377</td>\n",
       "      <td>-0.108676</td>\n",
       "    </tr>\n",
       "    <tr>\n",
       "      <th>WeekNoinMonth</th>\n",
       "      <td>NaN</td>\n",
       "      <td>0.035735</td>\n",
       "      <td>0.011141</td>\n",
       "      <td>0.015301</td>\n",
       "      <td>1.000000</td>\n",
       "      <td>-0.013320</td>\n",
       "      <td>0.066317</td>\n",
       "      <td>0.057905</td>\n",
       "      <td>-0.002826</td>\n",
       "      <td>-0.002826</td>\n",
       "      <td>0.016682</td>\n",
       "    </tr>\n",
       "    <tr>\n",
       "      <th>QTY</th>\n",
       "      <td>NaN</td>\n",
       "      <td>0.169496</td>\n",
       "      <td>0.069616</td>\n",
       "      <td>0.160675</td>\n",
       "      <td>-0.013320</td>\n",
       "      <td>1.000000</td>\n",
       "      <td>0.552602</td>\n",
       "      <td>0.659007</td>\n",
       "      <td>0.343846</td>\n",
       "      <td>0.343846</td>\n",
       "      <td>0.227512</td>\n",
       "    </tr>\n",
       "    <tr>\n",
       "      <th>SALESAVE</th>\n",
       "      <td>NaN</td>\n",
       "      <td>0.134221</td>\n",
       "      <td>0.068794</td>\n",
       "      <td>0.128368</td>\n",
       "      <td>0.066317</td>\n",
       "      <td>0.552602</td>\n",
       "      <td>1.000000</td>\n",
       "      <td>0.947061</td>\n",
       "      <td>0.216265</td>\n",
       "      <td>0.216265</td>\n",
       "      <td>0.258071</td>\n",
       "    </tr>\n",
       "    <tr>\n",
       "      <th>on_promo</th>\n",
       "      <td>NaN</td>\n",
       "      <td>0.181698</td>\n",
       "      <td>0.095721</td>\n",
       "      <td>0.174664</td>\n",
       "      <td>0.057905</td>\n",
       "      <td>0.659007</td>\n",
       "      <td>0.947061</td>\n",
       "      <td>1.000000</td>\n",
       "      <td>0.260454</td>\n",
       "      <td>0.260454</td>\n",
       "      <td>0.310802</td>\n",
       "    </tr>\n",
       "    <tr>\n",
       "      <th>Display_EndCap</th>\n",
       "      <td>NaN</td>\n",
       "      <td>-0.284457</td>\n",
       "      <td>-0.309615</td>\n",
       "      <td>-0.287377</td>\n",
       "      <td>-0.002826</td>\n",
       "      <td>0.343846</td>\n",
       "      <td>0.216265</td>\n",
       "      <td>0.260454</td>\n",
       "      <td>1.000000</td>\n",
       "      <td>1.000000</td>\n",
       "      <td>0.330111</td>\n",
       "    </tr>\n",
       "    <tr>\n",
       "      <th>on_display</th>\n",
       "      <td>NaN</td>\n",
       "      <td>-0.284457</td>\n",
       "      <td>-0.309615</td>\n",
       "      <td>-0.287377</td>\n",
       "      <td>-0.002826</td>\n",
       "      <td>0.343846</td>\n",
       "      <td>0.216265</td>\n",
       "      <td>0.260454</td>\n",
       "      <td>1.000000</td>\n",
       "      <td>1.000000</td>\n",
       "      <td>0.330111</td>\n",
       "    </tr>\n",
       "    <tr>\n",
       "      <th>Page_Number</th>\n",
       "      <td>NaN</td>\n",
       "      <td>-0.104376</td>\n",
       "      <td>-0.112083</td>\n",
       "      <td>-0.108676</td>\n",
       "      <td>0.016682</td>\n",
       "      <td>0.227512</td>\n",
       "      <td>0.258071</td>\n",
       "      <td>0.310802</td>\n",
       "      <td>0.330111</td>\n",
       "      <td>0.330111</td>\n",
       "      <td>1.000000</td>\n",
       "    </tr>\n",
       "  </tbody>\n",
       "</table>\n",
       "</div>"
      ],
      "text/plain": [
       "                ItemId  WeekNoinTotal    YearID  MonthNoinTotal  \\\n",
       "ItemId             NaN            NaN       NaN             NaN   \n",
       "WeekNoinTotal      NaN       1.000000  0.966294        0.999616   \n",
       "YearID             NaN       0.966294  1.000000        0.969411   \n",
       "MonthNoinTotal     NaN       0.999616  0.969411        1.000000   \n",
       "WeekNoinMonth      NaN       0.035735  0.011141        0.015301   \n",
       "QTY                NaN       0.169496  0.069616        0.160675   \n",
       "SALESAVE           NaN       0.134221  0.068794        0.128368   \n",
       "on_promo           NaN       0.181698  0.095721        0.174664   \n",
       "Display_EndCap     NaN      -0.284457 -0.309615       -0.287377   \n",
       "on_display         NaN      -0.284457 -0.309615       -0.287377   \n",
       "Page_Number        NaN      -0.104376 -0.112083       -0.108676   \n",
       "\n",
       "                WeekNoinMonth       QTY  SALESAVE  on_promo  Display_EndCap  \\\n",
       "ItemId                    NaN       NaN       NaN       NaN             NaN   \n",
       "WeekNoinTotal        0.035735  0.169496  0.134221  0.181698       -0.284457   \n",
       "YearID               0.011141  0.069616  0.068794  0.095721       -0.309615   \n",
       "MonthNoinTotal       0.015301  0.160675  0.128368  0.174664       -0.287377   \n",
       "WeekNoinMonth        1.000000 -0.013320  0.066317  0.057905       -0.002826   \n",
       "QTY                 -0.013320  1.000000  0.552602  0.659007        0.343846   \n",
       "SALESAVE             0.066317  0.552602  1.000000  0.947061        0.216265   \n",
       "on_promo             0.057905  0.659007  0.947061  1.000000        0.260454   \n",
       "Display_EndCap      -0.002826  0.343846  0.216265  0.260454        1.000000   \n",
       "on_display          -0.002826  0.343846  0.216265  0.260454        1.000000   \n",
       "Page_Number          0.016682  0.227512  0.258071  0.310802        0.330111   \n",
       "\n",
       "                on_display  Page_Number  \n",
       "ItemId                 NaN          NaN  \n",
       "WeekNoinTotal    -0.284457    -0.104376  \n",
       "YearID           -0.309615    -0.112083  \n",
       "MonthNoinTotal   -0.287377    -0.108676  \n",
       "WeekNoinMonth    -0.002826     0.016682  \n",
       "QTY               0.343846     0.227512  \n",
       "SALESAVE          0.216265     0.258071  \n",
       "on_promo          0.260454     0.310802  \n",
       "Display_EndCap    1.000000     0.330111  \n",
       "on_display        1.000000     0.330111  \n",
       "Page_Number       0.330111     1.000000  "
      ]
     },
     "execution_count": 24,
     "metadata": {},
     "output_type": "execute_result"
    }
   ],
   "source": [
    "df1.corr()"
   ]
  },
  {
   "cell_type": "code",
   "execution_count": 4,
   "metadata": {},
   "outputs": [],
   "source": [
    "notpromo=df1[df1['on_promo']==0]['QTY']\n",
    "promo=df1[df1['on_promo']==1]['QTY']"
   ]
  },
  {
   "cell_type": "code",
   "execution_count": 5,
   "metadata": {},
   "outputs": [
    {
     "name": "stdout",
     "output_type": "stream",
     "text": [
      "Not on promo QTY mean: 69.20370370370371\n",
      "On promo QTY mean: 165.95804195804195\n"
     ]
    }
   ],
   "source": [
    "print(\"Not on promo QTY mean:\", notpromo.mean())\n",
    "print(\"On promo QTY mean:\",promo.mean())"
   ]
  },
  {
   "cell_type": "code",
   "execution_count": 6,
   "metadata": {},
   "outputs": [],
   "source": [
    "#H0 = Products not on promo are sold more or equal to products on promo\n",
    "#H1 = Products not on promo are sold less than products on promo"
   ]
  },
  {
   "cell_type": "code",
   "execution_count": 7,
   "metadata": {},
   "outputs": [],
   "source": [
    "stat, pval = stats.ttest_ind(promo, notpromo, equal_var=False)"
   ]
  },
  {
   "cell_type": "code",
   "execution_count": 8,
   "metadata": {},
   "outputs": [
    {
     "data": {
      "text/plain": [
       "5.698037732991534e-22"
      ]
     },
     "execution_count": 8,
     "metadata": {},
     "output_type": "execute_result"
    }
   ],
   "source": [
    "pval/2"
   ]
  },
  {
   "cell_type": "code",
   "execution_count": 9,
   "metadata": {},
   "outputs": [],
   "source": [
    "alpha = 0.05"
   ]
  },
  {
   "cell_type": "code",
   "execution_count": 10,
   "metadata": {},
   "outputs": [
    {
     "name": "stdout",
     "output_type": "stream",
     "text": [
      "H1 is true, H0 is rejected\n"
     ]
    }
   ],
   "source": [
    "if pval/2 < alpha:\n",
    "    print(\"H1 is true, H0 is rejected\")\n",
    "if pval/2 >= alpha:\n",
    "    print(\"H0 is accepted and H1 is rejected\")"
   ]
  },
  {
   "cell_type": "code",
   "execution_count": null,
   "metadata": {},
   "outputs": [],
   "source": []
  },
  {
   "cell_type": "code",
   "execution_count": 11,
   "metadata": {},
   "outputs": [],
   "source": [
    "notdisp=df1[df1['on_display']==0]['QTY']\n",
    "disp=df1[df1['on_display']==1]['QTY']"
   ]
  },
  {
   "cell_type": "code",
   "execution_count": 12,
   "metadata": {},
   "outputs": [
    {
     "name": "stdout",
     "output_type": "stream",
     "text": [
      "Not on display QTY mean: 129.89221556886227\n",
      "On display QTY mean: 192.56666666666666\n"
     ]
    }
   ],
   "source": [
    "print(\"Not on display QTY mean:\", notdisp.mean())\n",
    "print(\"On display QTY mean:\",disp.mean())"
   ]
  },
  {
   "cell_type": "code",
   "execution_count": 13,
   "metadata": {},
   "outputs": [],
   "source": [
    "stat, pval = stats.ttest_ind(disp, notdisp, equal_var=False)"
   ]
  },
  {
   "cell_type": "code",
   "execution_count": 14,
   "metadata": {},
   "outputs": [
    {
     "data": {
      "text/plain": [
       "2.958731158684734e-14"
      ]
     },
     "execution_count": 14,
     "metadata": {},
     "output_type": "execute_result"
    }
   ],
   "source": [
    "pval/2"
   ]
  },
  {
   "cell_type": "code",
   "execution_count": 15,
   "metadata": {},
   "outputs": [
    {
     "name": "stdout",
     "output_type": "stream",
     "text": [
      "H1 is true, H0 is rejected\n"
     ]
    }
   ],
   "source": [
    "if pval/2 < alpha:\n",
    "    print(\"H1 is true, H0 is rejected\")\n",
    "if pval/2 >= alpha:\n",
    "    print(\"H0 is accepted and H1 is rejected\")"
   ]
  },
  {
   "cell_type": "code",
   "execution_count": null,
   "metadata": {},
   "outputs": [],
   "source": []
  },
  {
   "cell_type": "code",
   "execution_count": 16,
   "metadata": {},
   "outputs": [],
   "source": [
    "not_sale=df1[df1['SALESAVE']==0]['QTY']\n",
    "on_sale=df1[df1['SALESAVE']!=1]['QTY']"
   ]
  },
  {
   "cell_type": "code",
   "execution_count": 17,
   "metadata": {},
   "outputs": [
    {
     "name": "stdout",
     "output_type": "stream",
     "text": [
      "Not on sale QTY mean: 69.20370370370371\n",
      "On sale QTY mean: 139.43654822335026\n"
     ]
    }
   ],
   "source": [
    "print(\"Not on sale QTY mean:\", not_sale.mean())\n",
    "print(\"On sale QTY mean:\",on_sale.mean())"
   ]
  },
  {
   "cell_type": "code",
   "execution_count": 18,
   "metadata": {},
   "outputs": [],
   "source": [
    "stat, pval = stats.ttest_ind(on_sale, not_sale, equal_var=False)"
   ]
  },
  {
   "cell_type": "code",
   "execution_count": 19,
   "metadata": {},
   "outputs": [
    {
     "data": {
      "text/plain": [
       "2.0974140179017067e-14"
      ]
     },
     "execution_count": 19,
     "metadata": {},
     "output_type": "execute_result"
    }
   ],
   "source": [
    "pval/2"
   ]
  },
  {
   "cell_type": "code",
   "execution_count": 20,
   "metadata": {},
   "outputs": [
    {
     "name": "stdout",
     "output_type": "stream",
     "text": [
      "H1 is true, H0 is rejected\n"
     ]
    }
   ],
   "source": [
    "if pval/2 < alpha:\n",
    "    print(\"H1 is true, H0 is rejected\")\n",
    "if pval/2 >= alpha:\n",
    "    print(\"H0 is accepted and H1 is rejected\")"
   ]
  },
  {
   "cell_type": "code",
   "execution_count": null,
   "metadata": {},
   "outputs": [],
   "source": []
  },
  {
   "cell_type": "code",
   "execution_count": null,
   "metadata": {},
   "outputs": [],
   "source": []
  }
 ],
 "metadata": {
  "kernelspec": {
   "display_name": "Python 3",
   "language": "python",
   "name": "python3"
  },
  "language_info": {
   "codemirror_mode": {
    "name": "ipython",
    "version": 3
   },
   "file_extension": ".py",
   "mimetype": "text/x-python",
   "name": "python",
   "nbconvert_exporter": "python",
   "pygments_lexer": "ipython3",
   "version": "3.6.7"
  }
 },
 "nbformat": 4,
 "nbformat_minor": 2
}
